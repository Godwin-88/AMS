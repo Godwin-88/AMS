{
  "nbformat": 4,
  "nbformat_minor": 0,
  "metadata": {
    "colab": {
      "provenance": [],
      "authorship_tag": "ABX9TyMXGN+pjJtiFfDEc3tLGM9k",
      "include_colab_link": true
    },
    "kernelspec": {
      "name": "python3",
      "display_name": "Python 3"
    },
    "language_info": {
      "name": "python"
    }
  },
  "cells": [
    {
      "cell_type": "markdown",
      "metadata": {
        "id": "view-in-github",
        "colab_type": "text"
      },
      "source": [
        "<a href=\"https://colab.research.google.com/github/Godwin-88/AMS/blob/main/Pension.ipynb\" target=\"_parent\"><img src=\"https://colab.research.google.com/assets/colab-badge.svg\" alt=\"Open In Colab\"/></a>"
      ]
    },
    {
      "cell_type": "code",
      "source": [
        "import pandas as pd\n",
        "from sklearn.decomposition import PCA\n",
        "from sklearn.preprocessing import StandardScaler\n",
        "\n"
      ],
      "metadata": {
        "id": "zSOh-ETFprak"
      },
      "execution_count": null,
      "outputs": []
    },
    {
      "cell_type": "code",
      "execution_count": null,
      "metadata": {
        "colab": {
          "base_uri": "https://localhost:8080/"
        },
        "id": "1zOFLQc-o9xl",
        "outputId": "4af671b7-2173-480c-f36f-4c3276b0487b"
      },
      "outputs": [
        {
          "output_type": "execute_result",
          "data": {
            "text/plain": [
              "['With which gender do you identify yourself with?',\n",
              " 'What is your age?',\n",
              " 'What is your highest level of education?',\n",
              " 'What is your ethnic background?',\n",
              " 'Please specify your occupation',\n",
              " 'If other (Please specify)',\n",
              " 'How many years have you had a pension plan?',\n",
              " 'If you have a pension, do you pay:',\n",
              " 'If you pay between the maximum and minimum, what percentage of your income do you pay?',\n",
              " 'How much does your employer pay into your pension scheme?',\n",
              " 'What is the current value of your pension at the moment?',\n",
              " 'How much do you think it will be worth at retirement?',\n",
              " 'How much do you think you need at retirement in order to live comfortably?',\n",
              " 'Please indicate an estimate of your income?',\n",
              " 'Please indicate your marital status?',\n",
              " 'Please indicate your current labour/employment status?',\n",
              " 'If employed part time, please specify the number of working hours per week',\n",
              " ' When I contact my pension provider, I feel valued as a customer',\n",
              " ' I believe that my values and those of my pension provider are the same',\n",
              " ' I see a clear link between my pension providers’ missions, and my personal pension needs',\n",
              " ' I chose my current/most recent pension provider because it was well known',\n",
              " ' I have my current/most recent a pension because I was automatically included by my employer',\n",
              " ' I save into a pension only because its mandatory',\n",
              " ' My friends are important in helping me make my decision about a pension',\n",
              " ' Pension products endorsed by role models are important factor in my pension’s decisions',\n",
              " ' My family is important in helping me make my decision about a pension',\n",
              " ' Learning about pension products is easy for me',\n",
              " ' I can easily get information about my pension',\n",
              " ' A pension is important for securing my finances for when I retire',\n",
              " ' I am satisfied with my pension',\n",
              " ' I believe saving through a pension is a trustworthy way to save',\n",
              " ' In the future I plan to save using other products like ISAs',\n",
              " ' I believe the information about pension products that I receive from people close to me more than the information available in a brochure',\n",
              " ' I believe the information about pension products that I receive from people close to me more than the information available on TV advertisement',\n",
              " ' I rely on my friends’ recommendations about a pension',\n",
              " ' I would be reluctant to take out a pension if it were judged negatively by my family members',\n",
              " ' I would be reluctant to take out a pension if it were judged negatively by my friends',\n",
              " ' If I have a negative experience with my pension, I am likely to tell family',\n",
              " ' I am likely to tell my family about a positive experience I had with a pension',\n",
              " ' I rely on word-of-mouth communications when planning my pension',\n",
              " ' I would trust the opinions of people as posted or shared about a pension',\n",
              " ' If I read negative commentary about a pension, it would make me think twice about my pension',\n",
              " ' When it comes to my pension, I would trust the opinion of family members who have the same interests as me',\n",
              " ' I trust my pension provider to do what they say they will do',\n",
              " ' I trust my pension providers to have my best interests at heart',\n",
              " ' My pension providers are very reliable',\n",
              " ' I feel I can trust the services offered by my pension provider',\n",
              " ' My pension providers make every effort to address my needs',\n",
              " ' My pension providers have a reputation for integrity and transparency',\n",
              " ' My pension providers have a reputation for being honest',\n",
              " ' My pension providers have a reputation for being trustworthy',\n",
              " ' My pension providers have a reputation for looking after its customers',\n",
              " ' My pension providers have a reputation for fulfilling customer needs',\n",
              " ' Overall, I feel my pension providers can be trusted',\n",
              " ' My pension providers communicate clearly with me',\n",
              " ' My pension providers’ communications are appropriate for my needs',\n",
              " ' My pension providers are responsive when contacted',\n",
              " ' My pension providers inform me immediately of any problems',\n",
              " ' My pension providers communicate regularly',\n",
              " ' I have the ability to read and understand my yearly pension statement',\n",
              " ' I can use a combination of skills, resources, and knowledge to make decisions about my pension',\n",
              " ' I can make informed choices about my pension',\n",
              " ' I understand the financial terms used by my pension providers',\n",
              " ' I regularly check my pension provider statements for any inconsistencies',\n",
              " ' Other than a pension I also have another way of saving for my retirement',\n",
              " ' I know how my current pension investments are performing',\n",
              " ' I understand better how my pension savings are performing than my other investments',\n",
              " ' I have a disciplined approach to balancing how I plan for my retirement',\n",
              " ' I can estimate how much income I can expect from my pension when I retire',\n",
              " ' I know how much money I will need each month to live comfortably when I retire',\n",
              " ' I am aware of the impact of inflation on my future retirement income',\n",
              " ' I have adequate knowledge to manage my wealth after I retire',\n",
              " ' I understand how my pension is invested so that it grows',\n",
              " ' I take advice from experts to avoid stressful emotions with when making a financial decision',\n",
              " ' I seek advice from experts to minimise potential negative outcomes due to poor personal financial decisions',\n",
              " ' I have complete trust in personal finance that I delegate my decision making to myself',\n",
              " ' When I delegate decisions to experts, I experience enhanced choice satisfaction than when making decisions myself',\n",
              " ' I delegate tasks to experts to help me identify quality choices about products/services for further consideration',\n",
              " ' When I delegate decision making, to experts, I experience a loss of control',\n",
              " ' I feel enthusiastic about my pension providers',\n",
              " ' I am interested in anything to do with my pension providers',\n",
              " ' I find my pension provider to be interesting',\n",
              " ' I take close interest when interacting with my pension providers',\n",
              " ' If I see information related to my pension providers it grabs my attention',\n",
              " ' I spend a lot of time thinking about my pension providers',\n",
              " ' Most of my friends expect me to have a pension',\n",
              " ' Most of my family expect me to have a pension',\n",
              " ' Most of my family believe that enrolling into a pension scheme is a good idea',\n",
              " ' If I did not have a pension, people whose opinion I value, would like me to enrol into a pension',\n",
              " ' The fact that my friends have a pension puts pressure on me to have a pension',\n",
              " ' The fact that my family have a pension puts pressure on me to have a pension',\n",
              " ' The fact that my colleagues have a pension puts pressure on me to have a pension',\n",
              " ' I believe my pension provider will be able to deliver my required pension services',\n",
              " ' My pension providers have the resources, knowledge, and ability to deliver a relevant pension service',\n",
              " ' I believe that my provider will continue providing pension services regularly in future']"
            ]
          },
          "metadata": {},
          "execution_count": 5
        }
      ],
      "source": [
        "\n",
        "# Load the dataset to examine its structure and list columns\n",
        "file_path = '/content/Datafile.xlsx'\n",
        "data = pd.read_excel(file_path)\n",
        "\n",
        "# List the columns in the dataset\n",
        "data.columns.tolist()\n"
      ]
    },
    {
      "cell_type": "code",
      "source": [
        "# prompt: code to view  head of column 30 to 40\n",
        "\n",
        "print(data.iloc[:, 30:40].head())"
      ],
      "metadata": {
        "colab": {
          "base_uri": "https://localhost:8080/"
        },
        "id": "sc5w1Fsn1n_1",
        "outputId": "5721043b-ffcc-4ee6-99b4-b0a2b74511f8"
      },
      "execution_count": null,
      "outputs": [
        {
          "output_type": "stream",
          "name": "stdout",
          "text": [
            "   I believe saving through a pension is a trustworthy way to save  \\\n",
            "0                                                  3                 \n",
            "1                                                  4                 \n",
            "2                                                  1                 \n",
            "3                                                  5                 \n",
            "4                                                  4                 \n",
            "\n",
            "   In the future I plan to save using other products like ISAs  \\\n",
            "0                                                  4             \n",
            "1                                                  5             \n",
            "2                                                  3             \n",
            "3                                                  1             \n",
            "4                                                  5             \n",
            "\n",
            "   I believe the information about pension products that I receive from people close to me more than the information available in a brochure  \\\n",
            "0                                                  2                                                                                           \n",
            "1                                                  5                                                                                           \n",
            "2                                                  1                                                                                           \n",
            "3                                                  4                                                                                           \n",
            "4                                                  4                                                                                           \n",
            "\n",
            "   I believe the information about pension products that I receive from people close to me more than the information available on TV advertisement  \\\n",
            "0                                                  4                                                                                                 \n",
            "1                                                  5                                                                                                 \n",
            "2                                                  2                                                                                                 \n",
            "3                                                  3                                                                                                 \n",
            "4                                                  5                                                                                                 \n",
            "\n",
            "   I rely on my friends’ recommendations about a pension  \\\n",
            "0                                                  4       \n",
            "1                                                  5       \n",
            "2                                                  4       \n",
            "3                                                  3       \n",
            "4                                                  4       \n",
            "\n",
            "   I would be reluctant to take out a pension if it were judged negatively by my family members  \\\n",
            "0                                                  3                                              \n",
            "1                                                  4                                              \n",
            "2                                                  3                                              \n",
            "3                                                  4                                              \n",
            "4                                                  5                                              \n",
            "\n",
            "   I would be reluctant to take out a pension if it were judged negatively by my friends  \\\n",
            "0                                                  4                                       \n",
            "1                                                  5                                       \n",
            "2                                                  3                                       \n",
            "3                                                  3                                       \n",
            "4                                                  4                                       \n",
            "\n",
            "   If I have a negative experience with my pension, I am likely to tell family  \\\n",
            "0                                                  4                             \n",
            "1                                                  5                             \n",
            "2                                                  1                             \n",
            "3                                                  5                             \n",
            "4                                                  4                             \n",
            "\n",
            "   I am likely to tell my family about a positive experience I had with a pension  \\\n",
            "0                                                  3                                \n",
            "1                                                  4                                \n",
            "2                                                  3                                \n",
            "3                                                  2                                \n",
            "4                                                  5                                \n",
            "\n",
            "   I rely on word-of-mouth communications when planning my pension  \n",
            "0                                                  4                \n",
            "1                                                  4                \n",
            "2                                                  1                \n",
            "3                                                  2                \n",
            "4                                                  5                \n"
          ]
        }
      ]
    },
    {
      "cell_type": "code",
      "source": [
        "# prompt: list of the columns alongside the column numbers\n",
        "\n",
        "for i, col in enumerate(data.columns):\n",
        "    print(f\"Column {i}: {col}\")"
      ],
      "metadata": {
        "colab": {
          "base_uri": "https://localhost:8080/"
        },
        "id": "s6CwbaGUHNPz",
        "outputId": "6ca2df09-de39-47ad-9964-7f1565e56656"
      },
      "execution_count": null,
      "outputs": [
        {
          "output_type": "stream",
          "name": "stdout",
          "text": [
            "Column 0: With which gender do you identify yourself with?\n",
            "Column 1: What is your age?\n",
            "Column 2: What is your highest level of education?\n",
            "Column 3: What is your ethnic background?\n",
            "Column 4: Please specify your occupation\n",
            "Column 5: If other (Please specify)\n",
            "Column 6: How many years have you had a pension plan?\n",
            "Column 7: If you have a pension, do you pay:\n",
            "Column 8: If you pay between the maximum and minimum, what percentage of your income do you pay?\n",
            "Column 9: How much does your employer pay into your pension scheme?\n",
            "Column 10: What is the current value of your pension at the moment?\n",
            "Column 11: How much do you think it will be worth at retirement?\n",
            "Column 12: How much do you think you need at retirement in order to live comfortably?\n",
            "Column 13: Please indicate an estimate of your income?\n",
            "Column 14: Please indicate your marital status?\n",
            "Column 15: Please indicate your current labour/employment status?\n",
            "Column 16: If employed part time, please specify the number of working hours per week\n",
            "Column 17:  When I contact my pension provider, I feel valued as a customer\n",
            "Column 18:  I believe that my values and those of my pension provider are the same\n",
            "Column 19:  I see a clear link between my pension providers’ missions, and my personal pension needs\n",
            "Column 20:  I chose my current/most recent pension provider because it was well known\n",
            "Column 21:  I have my current/most recent a pension because I was automatically included by my employer\n",
            "Column 22:  I save into a pension only because its mandatory\n",
            "Column 23:  My friends are important in helping me make my decision about a pension\n",
            "Column 24:  Pension products endorsed by role models are important factor in my pension’s decisions\n",
            "Column 25:  My family is important in helping me make my decision about a pension\n",
            "Column 26:  Learning about pension products is easy for me\n",
            "Column 27:  I can easily get information about my pension\n",
            "Column 28:  A pension is important for securing my finances for when I retire\n",
            "Column 29:  I am satisfied with my pension\n",
            "Column 30:  I believe saving through a pension is a trustworthy way to save\n",
            "Column 31:  In the future I plan to save using other products like ISAs\n",
            "Column 32:  I believe the information about pension products that I receive from people close to me more than the information available in a brochure\n",
            "Column 33:  I believe the information about pension products that I receive from people close to me more than the information available on TV advertisement\n",
            "Column 34:  I rely on my friends’ recommendations about a pension\n",
            "Column 35:  I would be reluctant to take out a pension if it were judged negatively by my family members\n",
            "Column 36:  I would be reluctant to take out a pension if it were judged negatively by my friends\n",
            "Column 37:  If I have a negative experience with my pension, I am likely to tell family\n",
            "Column 38:  I am likely to tell my family about a positive experience I had with a pension\n",
            "Column 39:  I rely on word-of-mouth communications when planning my pension\n",
            "Column 40:  I would trust the opinions of people as posted or shared about a pension\n",
            "Column 41:  If I read negative commentary about a pension, it would make me think twice about my pension\n",
            "Column 42:  When it comes to my pension, I would trust the opinion of family members who have the same interests as me\n",
            "Column 43:  I trust my pension provider to do what they say they will do\n",
            "Column 44:  I trust my pension providers to have my best interests at heart\n",
            "Column 45:  My pension providers are very reliable\n",
            "Column 46:  I feel I can trust the services offered by my pension provider\n",
            "Column 47:  My pension providers make every effort to address my needs\n",
            "Column 48:  My pension providers have a reputation for integrity and transparency\n",
            "Column 49:  My pension providers have a reputation for being honest\n",
            "Column 50:  My pension providers have a reputation for being trustworthy\n",
            "Column 51:  My pension providers have a reputation for looking after its customers\n",
            "Column 52:  My pension providers have a reputation for fulfilling customer needs\n",
            "Column 53:  Overall, I feel my pension providers can be trusted\n",
            "Column 54:  My pension providers communicate clearly with me\n",
            "Column 55:  My pension providers’ communications are appropriate for my needs\n",
            "Column 56:  My pension providers are responsive when contacted\n",
            "Column 57:  My pension providers inform me immediately of any problems\n",
            "Column 58:  My pension providers communicate regularly\n",
            "Column 59:  I have the ability to read and understand my yearly pension statement\n",
            "Column 60:  I can use a combination of skills, resources, and knowledge to make decisions about my pension\n",
            "Column 61:  I can make informed choices about my pension\n",
            "Column 62:  I understand the financial terms used by my pension providers\n",
            "Column 63:  I regularly check my pension provider statements for any inconsistencies\n",
            "Column 64:  Other than a pension I also have another way of saving for my retirement\n",
            "Column 65:  I know how my current pension investments are performing\n",
            "Column 66:  I understand better how my pension savings are performing than my other investments\n",
            "Column 67:  I have a disciplined approach to balancing how I plan for my retirement\n",
            "Column 68:  I can estimate how much income I can expect from my pension when I retire\n",
            "Column 69:  I know how much money I will need each month to live comfortably when I retire\n",
            "Column 70:  I am aware of the impact of inflation on my future retirement income\n",
            "Column 71:  I have adequate knowledge to manage my wealth after I retire\n",
            "Column 72:  I understand how my pension is invested so that it grows\n",
            "Column 73:  I take advice from experts to avoid stressful emotions with when making a financial decision\n",
            "Column 74:  I seek advice from experts to minimise potential negative outcomes due to poor personal financial decisions\n",
            "Column 75:  I have complete trust in personal finance that I delegate my decision making to myself\n",
            "Column 76:  When I delegate decisions to experts, I experience enhanced choice satisfaction than when making decisions myself\n",
            "Column 77:  I delegate tasks to experts to help me identify quality choices about products/services for further consideration\n",
            "Column 78:  When I delegate decision making, to experts, I experience a loss of control\n",
            "Column 79:  I feel enthusiastic about my pension providers\n",
            "Column 80:  I am interested in anything to do with my pension providers\n",
            "Column 81:  I find my pension provider to be interesting\n",
            "Column 82:  I take close interest when interacting with my pension providers\n",
            "Column 83:  If I see information related to my pension providers it grabs my attention\n",
            "Column 84:  I spend a lot of time thinking about my pension providers\n",
            "Column 85:  Most of my friends expect me to have a pension\n",
            "Column 86:  Most of my family expect me to have a pension\n",
            "Column 87:  Most of my family believe that enrolling into a pension scheme is a good idea\n",
            "Column 88:  If I did not have a pension, people whose opinion I value, would like me to enrol into a pension\n",
            "Column 89:  The fact that my friends have a pension puts pressure on me to have a pension\n",
            "Column 90:  The fact that my family have a pension puts pressure on me to have a pension\n",
            "Column 91:  The fact that my colleagues have a pension puts pressure on me to have a pension\n",
            "Column 92:  I believe my pension provider will be able to deliver my required pension services\n",
            "Column 93:  My pension providers have the resources, knowledge, and ability to deliver a relevant pension service\n",
            "Column 94:  I believe that my provider will continue providing pension services regularly in future\n"
          ]
        }
      ]
    },
    {
      "cell_type": "code",
      "source": [
        "#column 17 to 19 to be stored as identification_vars from data\n",
        "\n",
        "identification_vars = data.iloc[:, 17:20]\n",
        "print(identification_vars.head())"
      ],
      "metadata": {
        "id": "-E1-t9RXHYsL",
        "colab": {
          "base_uri": "https://localhost:8080/"
        },
        "outputId": "9a80aa5c-2157-4b42-fa7a-5bc1d00536ee"
      },
      "execution_count": 18,
      "outputs": [
        {
          "output_type": "stream",
          "name": "stdout",
          "text": [
            "   When I contact my pension provider, I feel valued as a customer  \\\n",
            "0                                                  4                 \n",
            "1                                                  4                 \n",
            "2                                                  2                 \n",
            "3                                                  2                 \n",
            "4                                                  5                 \n",
            "\n",
            "   I believe that my values and those of my pension provider are the same  \\\n",
            "0                                                  4                        \n",
            "1                                                  5                        \n",
            "2                                                  2                        \n",
            "3                                                  4                        \n",
            "4                                                  5                        \n",
            "\n",
            "   I see a clear link between my pension providers’ missions, and my personal pension needs  \n",
            "0                                                  3                                         \n",
            "1                                                  4                                         \n",
            "2                                                  2                                         \n",
            "3                                                  3                                         \n",
            "4                                                  4                                         \n"
          ]
        }
      ]
    },
    {
      "cell_type": "code",
      "source": [
        "\n"
      ],
      "metadata": {
        "id": "4apdNtWWJKl_"
      },
      "execution_count": null,
      "outputs": []
    },
    {
      "cell_type": "code",
      "source": [
        "from sklearn.decomposition import PCA\n",
        "from sklearn.preprocessing import StandardScaler\n",
        "\n",
        "# Step 1: Standardize the data\n",
        "scaler = StandardScaler()\n",
        "identification_data_scaled = scaler.fit_transform(identification_vars)\n",
        "\n",
        "# Step 2: Fit PCA model\n",
        "pca = PCA(n_components=1)  # Choose 1 component if you aim to summarize with one main factor\n",
        "pca_result = pca.fit_transform(identification_data_scaled)\n",
        "\n",
        "# Step 3: Store the PCA component scores in the original dataframe\n",
        "data['Identification_Score'] = pca_result\n",
        "\n",
        "# Step 4: Print explained variance to see how well this component captures the variation\n",
        "print(\"Explained Variance Ratio:\", pca.explained_variance_ratio_)\n",
        "print(\"Principal Component Scores (first few rows):\\n\", pca_result[:5])\n"
      ],
      "metadata": {
        "colab": {
          "base_uri": "https://localhost:8080/"
        },
        "id": "aq-Bkc4wIQe3",
        "outputId": "d2f367be-f405-432c-8cb1-a3d40e16ace3"
      },
      "execution_count": 22,
      "outputs": [
        {
          "output_type": "stream",
          "name": "stdout",
          "text": [
            "Explained Variance Ratio: [0.52370787]\n",
            "Principal Component Scores (first few rows):\n",
            " [[ 0.13505979]\n",
            " [ 1.29286505]\n",
            " [-2.69297735]\n",
            " [-0.99002902]\n",
            " [ 1.85540945]]\n"
          ]
        }
      ]
    },
    {
      "cell_type": "code",
      "source": [
        "# prompt: column 21 to 25 to be stored as compliance_vars from data\n",
        "\n",
        "compliance_vars = data.iloc[:, 20:26]\n",
        "print(compliance_vars.head())"
      ],
      "metadata": {
        "colab": {
          "base_uri": "https://localhost:8080/"
        },
        "id": "gK22pKiVN8TN",
        "outputId": "89bddd63-9ee3-439e-b7d7-58f645e1402a"
      },
      "execution_count": 24,
      "outputs": [
        {
          "output_type": "stream",
          "name": "stdout",
          "text": [
            "   I chose my current/most recent pension provider because it was well known  \\\n",
            "0                                                  2                           \n",
            "1                                                  4                           \n",
            "2                                                  1                           \n",
            "3                                                  2                           \n",
            "4                                                  4                           \n",
            "\n",
            "   I have my current/most recent a pension because I was automatically included by my employer  \\\n",
            "0                                                  5                                             \n",
            "1                                                  4                                             \n",
            "2                                                  2                                             \n",
            "3                                                  1                                             \n",
            "4                                                  4                                             \n",
            "\n",
            "   I save into a pension only because its mandatory  \\\n",
            "0                                                 5   \n",
            "1                                                 4   \n",
            "2                                                 3   \n",
            "3                                                 5   \n",
            "4                                                 4   \n",
            "\n",
            "   My friends are important in helping me make my decision about a pension  \\\n",
            "0                                                  3                         \n",
            "1                                                  5                         \n",
            "2                                                  2                         \n",
            "3                                                  5                         \n",
            "4                                                  4                         \n",
            "\n",
            "   Pension products endorsed by role models are important factor in my pension’s decisions  \\\n",
            "0                                                  5                                         \n",
            "1                                                  4                                         \n",
            "2                                                  1                                         \n",
            "3                                                  4                                         \n",
            "4                                                  5                                         \n",
            "\n",
            "   My family is important in helping me make my decision about a pension  \n",
            "0                                                  3                      \n",
            "1                                                  5                      \n",
            "2                                                  4                      \n",
            "3                                                  5                      \n",
            "4                                                  4                      \n"
          ]
        }
      ]
    },
    {
      "cell_type": "code",
      "source": [
        "# Step 1: Standardize the data\n",
        "scaler = StandardScaler()\n",
        "compliance_data_scaled = scaler.fit_transform(compliance_vars)\n",
        "\n",
        "# Step 2: Fit PCA model\n",
        "pca = PCA(n_components=1)  # Choose 1 component if you aim to summarize with one main factor\n",
        "pca_result = pca.fit_transform(compliance_data_scaled)\n",
        "\n",
        "# Step 3: Store the PCA component scores in the original dataframe\n",
        "data['compliance_Score'] = pca_result\n",
        "\n",
        "# Step 4: Print explained variance to see how well this component captures the variation\n",
        "print(\"Explained Variance Ratio:\", pca.explained_variance_ratio_)\n",
        "print(\"Principal Component Scores (first few rows):\\n\", pca_result[:5])"
      ],
      "metadata": {
        "colab": {
          "base_uri": "https://localhost:8080/"
        },
        "id": "GhS9DurII1vG",
        "outputId": "0a55737c-cf3f-46b5-c0cd-95b3b460002a"
      },
      "execution_count": 25,
      "outputs": [
        {
          "output_type": "stream",
          "name": "stdout",
          "text": [
            "Explained Variance Ratio: [0.37096513]\n",
            "Principal Component Scores (first few rows):\n",
            " [[ 0.66248731]\n",
            " [ 2.06619948]\n",
            " [-2.77065752]\n",
            " [ 0.73216882]\n",
            " [ 1.60898927]]\n"
          ]
        }
      ]
    },
    {
      "cell_type": "code",
      "source": [
        "internalization_vars = data.iloc[:, 26:32]\n",
        "print(internalization_vars.head())\n"
      ],
      "metadata": {
        "colab": {
          "base_uri": "https://localhost:8080/"
        },
        "id": "uupTLNR4ZQ9e",
        "outputId": "fdf46be4-00a0-476b-dfbd-59ee2819b534"
      },
      "execution_count": 26,
      "outputs": [
        {
          "output_type": "stream",
          "name": "stdout",
          "text": [
            "   Learning about pension products is easy for me  \\\n",
            "0                                               4   \n",
            "1                                               4   \n",
            "2                                               4   \n",
            "3                                               3   \n",
            "4                                               5   \n",
            "\n",
            "   I can easily get information about my pension  \\\n",
            "0                                              3   \n",
            "1                                              4   \n",
            "2                                              2   \n",
            "3                                              4   \n",
            "4                                              4   \n",
            "\n",
            "   A pension is important for securing my finances for when I retire  \\\n",
            "0                                                  4                   \n",
            "1                                                  4                   \n",
            "2                                                  5                   \n",
            "3                                                  2                   \n",
            "4                                                  5                   \n",
            "\n",
            "   I am satisfied with my pension  \\\n",
            "0                               3   \n",
            "1                               4   \n",
            "2                               3   \n",
            "3                               5   \n",
            "4                               5   \n",
            "\n",
            "   I believe saving through a pension is a trustworthy way to save  \\\n",
            "0                                                  3                 \n",
            "1                                                  4                 \n",
            "2                                                  1                 \n",
            "3                                                  5                 \n",
            "4                                                  4                 \n",
            "\n",
            "   In the future I plan to save using other products like ISAs  \n",
            "0                                                  4            \n",
            "1                                                  5            \n",
            "2                                                  3            \n",
            "3                                                  1            \n",
            "4                                                  5            \n"
          ]
        }
      ]
    },
    {
      "cell_type": "code",
      "source": [
        "\n",
        "\n",
        "# Step 1: Standardize the data\n",
        "scaler = StandardScaler()\n",
        "internalization_data_scaled = scaler.fit_transform(internalization_vars)\n",
        "\n",
        "# Step 2: Fit PCA model\n",
        "pca = PCA(n_components=1)  # Choose 1 component if you aim to summarize with one main factor\n",
        "pca_result = pca.fit_transform(internalization_data_scaled)\n",
        "\n",
        "# Step 3: Store the PCA component scores in the original dataframe\n",
        "data['Internalization_Score'] = pca_result\n",
        "\n",
        "# Step 4: Print explained variance to see how well this component captures the variation\n",
        "print(\"Explained Variance Ratio:\", pca.explained_variance_ratio_)\n",
        "print(\"Principal Component Scores (first few rows):\\n\", pca_result[:5])"
      ],
      "metadata": {
        "colab": {
          "base_uri": "https://localhost:8080/"
        },
        "id": "1KfeH6XjO6o6",
        "outputId": "3467dc4e-aa5d-41c4-de33-c97fdd303bc5"
      },
      "execution_count": 27,
      "outputs": [
        {
          "output_type": "stream",
          "name": "stdout",
          "text": [
            "Explained Variance Ratio: [0.40762587]\n",
            "Principal Component Scores (first few rows):\n",
            " [[-0.57404119]\n",
            " [ 1.07411381]\n",
            " [-1.84567975]\n",
            " [-0.66150838]\n",
            " [ 2.26613699]]\n"
          ]
        }
      ]
    },
    {
      "cell_type": "code",
      "source": [
        "trust_vars = data.iloc[:, 32:54]  # Select columns 32 to 53 (inclusive)\n",
        "print(trust_vars.head())"
      ],
      "metadata": {
        "colab": {
          "base_uri": "https://localhost:8080/"
        },
        "id": "PxLFDAV5cbh2",
        "outputId": "1b5d262d-4df4-42a3-ef6d-28650cc242da"
      },
      "execution_count": 28,
      "outputs": [
        {
          "output_type": "stream",
          "name": "stdout",
          "text": [
            "   I believe the information about pension products that I receive from people close to me more than the information available in a brochure  \\\n",
            "0                                                  2                                                                                           \n",
            "1                                                  5                                                                                           \n",
            "2                                                  1                                                                                           \n",
            "3                                                  4                                                                                           \n",
            "4                                                  4                                                                                           \n",
            "\n",
            "   I believe the information about pension products that I receive from people close to me more than the information available on TV advertisement  \\\n",
            "0                                                  4                                                                                                 \n",
            "1                                                  5                                                                                                 \n",
            "2                                                  2                                                                                                 \n",
            "3                                                  3                                                                                                 \n",
            "4                                                  5                                                                                                 \n",
            "\n",
            "   I rely on my friends’ recommendations about a pension  \\\n",
            "0                                                  4       \n",
            "1                                                  5       \n",
            "2                                                  4       \n",
            "3                                                  3       \n",
            "4                                                  4       \n",
            "\n",
            "   I would be reluctant to take out a pension if it were judged negatively by my family members  \\\n",
            "0                                                  3                                              \n",
            "1                                                  4                                              \n",
            "2                                                  3                                              \n",
            "3                                                  4                                              \n",
            "4                                                  5                                              \n",
            "\n",
            "   I would be reluctant to take out a pension if it were judged negatively by my friends  \\\n",
            "0                                                  4                                       \n",
            "1                                                  5                                       \n",
            "2                                                  3                                       \n",
            "3                                                  3                                       \n",
            "4                                                  4                                       \n",
            "\n",
            "   If I have a negative experience with my pension, I am likely to tell family  \\\n",
            "0                                                  4                             \n",
            "1                                                  5                             \n",
            "2                                                  1                             \n",
            "3                                                  5                             \n",
            "4                                                  4                             \n",
            "\n",
            "   I am likely to tell my family about a positive experience I had with a pension  \\\n",
            "0                                                  3                                \n",
            "1                                                  4                                \n",
            "2                                                  3                                \n",
            "3                                                  2                                \n",
            "4                                                  5                                \n",
            "\n",
            "   I rely on word-of-mouth communications when planning my pension  \\\n",
            "0                                                  4                 \n",
            "1                                                  4                 \n",
            "2                                                  1                 \n",
            "3                                                  2                 \n",
            "4                                                  5                 \n",
            "\n",
            "   I would trust the opinions of people as posted or shared about a pension  \\\n",
            "0                                                  4                          \n",
            "1                                                  4                          \n",
            "2                                                  1                          \n",
            "3                                                  5                          \n",
            "4                                                  4                          \n",
            "\n",
            "   If I read negative commentary about a pension, it would make me think twice about my pension  \\\n",
            "0                                                  4                                              \n",
            "1                                                  4                                              \n",
            "2                                                  2                                              \n",
            "3                                                  5                                              \n",
            "4                                                  4                                              \n",
            "\n",
            "   ...  I trust my pension providers to have my best interests at heart  \\\n",
            "0  ...                                                  4                 \n",
            "1  ...                                                  4                 \n",
            "2  ...                                                  3                 \n",
            "3  ...                                                  2                 \n",
            "4  ...                                                  3                 \n",
            "\n",
            "   My pension providers are very reliable  \\\n",
            "0                                       3   \n",
            "1                                       4   \n",
            "2                                       4   \n",
            "3                                       4   \n",
            "4                                       5   \n",
            "\n",
            "   I feel I can trust the services offered by my pension provider  \\\n",
            "0                                                  4                \n",
            "1                                                  4                \n",
            "2                                                  3                \n",
            "3                                                  4                \n",
            "4                                                  4                \n",
            "\n",
            "   My pension providers make every effort to address my needs  \\\n",
            "0                                                  3            \n",
            "1                                                  4            \n",
            "2                                                  4            \n",
            "3                                                  4            \n",
            "4                                                  5            \n",
            "\n",
            "   My pension providers have a reputation for integrity and transparency  \\\n",
            "0                                                  4                       \n",
            "1                                                  4                       \n",
            "2                                                  3                       \n",
            "3                                                  2                       \n",
            "4                                                  4                       \n",
            "\n",
            "   My pension providers have a reputation for being honest  \\\n",
            "0                                                  4         \n",
            "1                                                  4         \n",
            "2                                                  3         \n",
            "3                                                  5         \n",
            "4                                                  4         \n",
            "\n",
            "   My pension providers have a reputation for being trustworthy  \\\n",
            "0                                                  4              \n",
            "1                                                  4              \n",
            "2                                                  1              \n",
            "3                                                  5              \n",
            "4                                                  5              \n",
            "\n",
            "   My pension providers have a reputation for looking after its customers  \\\n",
            "0                                                  2                        \n",
            "1                                                  4                        \n",
            "2                                                  4                        \n",
            "3                                                  5                        \n",
            "4                                                  4                        \n",
            "\n",
            "   My pension providers have a reputation for fulfilling customer needs  \\\n",
            "0                                                  2                      \n",
            "1                                                  4                      \n",
            "2                                                  3                      \n",
            "3                                                  2                      \n",
            "4                                                  3                      \n",
            "\n",
            "   Overall, I feel my pension providers can be trusted  \n",
            "0                                                  4    \n",
            "1                                                  4    \n",
            "2                                                  3    \n",
            "3                                                  4    \n",
            "4                                                  4    \n",
            "\n",
            "[5 rows x 22 columns]\n"
          ]
        }
      ]
    },
    {
      "cell_type": "code",
      "source": [
        "# Step 1: Standardize the data\n",
        "scaler = StandardScaler()\n",
        "trust_data_scaled = scaler.fit_transform(trust_vars)\n",
        "\n",
        "# Step 2: Fit PCA model\n",
        "pca = PCA(n_components=1)  # Choose 1 component for summarization\n",
        "pca_result = pca.fit_transform(trust_data_scaled)\n",
        "\n",
        "# Step 3: Store the PCA component scores in the original DataFrame\n",
        "data['Trust_Score'] = pca_result\n",
        "\n",
        "# Step 4: Print explained variance and PCA scores\n",
        "print(\"Explained Variance Ratio:\", pca.explained_variance_ratio_)\n",
        "print(\"Principal Component Scores (first few rows):\\n\", pca_result[:5])"
      ],
      "metadata": {
        "colab": {
          "base_uri": "https://localhost:8080/"
        },
        "id": "thaU7O2hbpEm",
        "outputId": "5450f14d-9af0-4784-8640-68559e14ff4b"
      },
      "execution_count": 29,
      "outputs": [
        {
          "output_type": "stream",
          "name": "stdout",
          "text": [
            "Explained Variance Ratio: [0.28983677]\n",
            "Principal Component Scores (first few rows):\n",
            " [[-0.64361254]\n",
            " [ 2.74491057]\n",
            " [-3.66230644]\n",
            " [ 0.35617608]\n",
            " [ 3.14338559]]\n"
          ]
        }
      ]
    },
    {
      "cell_type": "code",
      "source": [
        "\n",
        "communication_vars = data.iloc[:, 54:59]  # Select columns 54 to 58 (inclusive)\n",
        "print(communication_vars.head())\n"
      ],
      "metadata": {
        "colab": {
          "base_uri": "https://localhost:8080/"
        },
        "id": "M22BKK16cwcX",
        "outputId": "d8e6557b-e525-4348-df4a-3b651064927b"
      },
      "execution_count": 30,
      "outputs": [
        {
          "output_type": "stream",
          "name": "stdout",
          "text": [
            "   My pension providers communicate clearly with me  \\\n",
            "0                                                 2   \n",
            "1                                                 4   \n",
            "2                                                 1   \n",
            "3                                                 2   \n",
            "4                                                 4   \n",
            "\n",
            "   My pension providers’ communications are appropriate for my needs  \\\n",
            "0                                                  3                   \n",
            "1                                                  4                   \n",
            "2                                                  2                   \n",
            "3                                                  5                   \n",
            "4                                                  5                   \n",
            "\n",
            "   My pension providers are responsive when contacted  \\\n",
            "0                                                  4    \n",
            "1                                                  5    \n",
            "2                                                  2    \n",
            "3                                                  5    \n",
            "4                                                  4    \n",
            "\n",
            "   My pension providers inform me immediately of any problems  \\\n",
            "0                                                  4            \n",
            "1                                                  4            \n",
            "2                                                  1            \n",
            "3                                                  5            \n",
            "4                                                  5            \n",
            "\n",
            "   My pension providers communicate regularly  \n",
            "0                                           3  \n",
            "1                                           4  \n",
            "2                                           1  \n",
            "3                                           5  \n",
            "4                                           3  \n"
          ]
        }
      ]
    },
    {
      "cell_type": "code",
      "source": [
        "\n",
        "# Step 1: Standardize the data\n",
        "scaler = StandardScaler()\n",
        "communication_data_scaled = scaler.fit_transform(communication_vars)\n",
        "\n",
        "# Step 2: Fit PCA model\n",
        "pca = PCA(n_components=1)  # Choose 1 component for summarization\n",
        "pca_result = pca.fit_transform(communication_data_scaled)\n",
        "\n",
        "# Step 3: Store the PCA component scores in the original DataFrame\n",
        "data['Communication_Score'] = pca_result\n",
        "\n",
        "# Step 4: Print explained variance and PCA scores\n",
        "print(\"Explained Variance Ratio:\", pca.explained_variance_ratio_)\n",
        "print(\"Principal Component Scores (first few rows):\\n\", pca_result[:5])"
      ],
      "metadata": {
        "colab": {
          "base_uri": "https://localhost:8080/"
        },
        "id": "hN9H6xDIcjoC",
        "outputId": "00a04f2d-ff3e-47b6-f5f8-28ed14432747"
      },
      "execution_count": 31,
      "outputs": [
        {
          "output_type": "stream",
          "name": "stdout",
          "text": [
            "Explained Variance Ratio: [0.47607365]\n",
            "Principal Component Scores (first few rows):\n",
            " [[-0.78390335]\n",
            " [ 1.40347698]\n",
            " [-4.78516751]\n",
            " [ 1.85710425]\n",
            " [ 1.4560756 ]]\n"
          ]
        }
      ]
    },
    {
      "cell_type": "markdown",
      "source": [],
      "metadata": {
        "id": "6yKntKQWeMtA"
      }
    },
    {
      "cell_type": "code",
      "source": [
        "\n",
        "# Select columns 59 to 72 (inclusive) for communication variables\n",
        "financialability_vars = data.iloc[:, 59:73]  # Note: end index is exclusive, so use 73\n",
        "print(financialability_vars.head())"
      ],
      "metadata": {
        "colab": {
          "base_uri": "https://localhost:8080/"
        },
        "id": "mEuFoDK5dKrZ",
        "outputId": "69787643-daa8-44b3-a35b-6c7b48f00be8"
      },
      "execution_count": 43,
      "outputs": [
        {
          "output_type": "stream",
          "name": "stdout",
          "text": [
            "   I have the ability to read and understand my yearly pension statement  \\\n",
            "0                                                  4                       \n",
            "1                                                  5                       \n",
            "2                                                  3                       \n",
            "3                                                  2                       \n",
            "4                                                  4                       \n",
            "\n",
            "   I can use a combination of skills, resources, and knowledge to make decisions about my pension  \\\n",
            "0                                                  3                                                \n",
            "1                                                  3                                                \n",
            "2                                                  3                                                \n",
            "3                                                  2                                                \n",
            "4                                                  4                                                \n",
            "\n",
            "   I can make informed choices about my pension  \\\n",
            "0                                             5   \n",
            "1                                             4   \n",
            "2                                             4   \n",
            "3                                             3   \n",
            "4                                             4   \n",
            "\n",
            "   I understand the financial terms used by my pension providers  \\\n",
            "0                                                  3               \n",
            "1                                                  3               \n",
            "2                                                  4               \n",
            "3                                                  5               \n",
            "4                                                  5               \n",
            "\n",
            "   I regularly check my pension provider statements for any inconsistencies  \\\n",
            "0                                                  4                          \n",
            "1                                                  4                          \n",
            "2                                                  3                          \n",
            "3                                                  3                          \n",
            "4                                                  5                          \n",
            "\n",
            "   Other than a pension I also have another way of saving for my retirement  \\\n",
            "0                                                  4                          \n",
            "1                                                  4                          \n",
            "2                                                  1                          \n",
            "3                                                  1                          \n",
            "4                                                  5                          \n",
            "\n",
            "   I know how my current pension investments are performing  \\\n",
            "0                                                  3          \n",
            "1                                                  5          \n",
            "2                                                  2          \n",
            "3                                                  2          \n",
            "4                                                  4          \n",
            "\n",
            "   I understand better how my pension savings are performing than my other investments  \\\n",
            "0                                                  5                                     \n",
            "1                                                  5                                     \n",
            "2                                                  4                                     \n",
            "3                                                  4                                     \n",
            "4                                                  4                                     \n",
            "\n",
            "   I have a disciplined approach to balancing how I plan for my retirement  \\\n",
            "0                                                  4                         \n",
            "1                                                  4                         \n",
            "2                                                  4                         \n",
            "3                                                  4                         \n",
            "4                                                  5                         \n",
            "\n",
            "   I can estimate how much income I can expect from my pension when I retire  \\\n",
            "0                                                  3                           \n",
            "1                                                  5                           \n",
            "2                                                  2                           \n",
            "3                                                  3                           \n",
            "4                                                  4                           \n",
            "\n",
            "   I know how much money I will need each month to live comfortably when I retire  \\\n",
            "0                                                  2                                \n",
            "1                                                  5                                \n",
            "2                                                  3                                \n",
            "3                                                  5                                \n",
            "4                                                  4                                \n",
            "\n",
            "   I am aware of the impact of inflation on my future retirement income  \\\n",
            "0                                                  4                      \n",
            "1                                                  4                      \n",
            "2                                                  1                      \n",
            "3                                                  4                      \n",
            "4                                                  3                      \n",
            "\n",
            "   I have adequate knowledge to manage my wealth after I retire  \\\n",
            "0                                                  3              \n",
            "1                                                  4              \n",
            "2                                                  2              \n",
            "3                                                  2              \n",
            "4                                                  5              \n",
            "\n",
            "   I understand how my pension is invested so that it grows  \n",
            "0                                                  1         \n",
            "1                                                  5         \n",
            "2                                                  4         \n",
            "3                                                  2         \n",
            "4                                                  4         \n"
          ]
        }
      ]
    },
    {
      "cell_type": "code",
      "source": [
        "\n",
        "\n",
        "# Step 1: Standardize the data\n",
        "scaler = StandardScaler()\n",
        "financialability_data_scaled = scaler.fit_transform(financialability_vars)\n",
        "\n",
        "# Step 2: Fit PCA model\n",
        "pca = PCA(n_components=1)  # Choose 1 component for summarization\n",
        "pca_result = pca.fit_transform(financialability_data_scaled)\n",
        "\n",
        "# Step 3: Store the PCA component scores in the original DataFrame\n",
        "data['financialability_score'] = pca_result #Renamed to avoid overwriting previous variable\n",
        "\n",
        "# Step 4: Print explained variance and PCA scores\n",
        "print(\"Explained Variance Ratio:\", pca.explained_variance_ratio_)\n",
        "print(\"Principal Component Scores (first few rows):\\n\", pca_result[:5])"
      ],
      "metadata": {
        "colab": {
          "base_uri": "https://localhost:8080/"
        },
        "id": "i1q9avv1c1PX",
        "outputId": "bad8c501-71ec-47e6-adbc-ae7542a66aff"
      },
      "execution_count": 44,
      "outputs": [
        {
          "output_type": "stream",
          "name": "stdout",
          "text": [
            "Explained Variance Ratio: [0.34377016]\n",
            "Principal Component Scores (first few rows):\n",
            " [[-0.51964067]\n",
            " [ 2.48892253]\n",
            " [-2.53750863]\n",
            " [-2.01309379]\n",
            " [ 2.58982935]]\n"
          ]
        }
      ]
    },
    {
      "cell_type": "code",
      "source": [
        "decisiondelegation_vars = data.iloc[:, 74:79]  # Note: end index is exclusive, so use 73\n",
        "print(decisiondelegation_vars.head())"
      ],
      "metadata": {
        "colab": {
          "base_uri": "https://localhost:8080/"
        },
        "id": "K5M0kiiCdWRo",
        "outputId": "4eb74b3f-757b-4368-d99d-28fa752dfaae"
      },
      "execution_count": 36,
      "outputs": [
        {
          "output_type": "stream",
          "name": "stdout",
          "text": [
            "   I seek advice from experts to minimise potential negative outcomes due to poor personal financial decisions  \\\n",
            "0                                                  4                                                             \n",
            "1                                                  5                                                             \n",
            "2                                                  1                                                             \n",
            "3                                                  2                                                             \n",
            "4                                                  4                                                             \n",
            "\n",
            "   I have complete trust in personal finance that I delegate my decision making to myself  \\\n",
            "0                                                  4                                        \n",
            "1                                                  4                                        \n",
            "2                                                  3                                        \n",
            "3                                                  3                                        \n",
            "4                                                  4                                        \n",
            "\n",
            "   When I delegate decisions to experts, I experience enhanced choice satisfaction than when making decisions myself  \\\n",
            "0                                                  4                                                                   \n",
            "1                                                  5                                                                   \n",
            "2                                                  3                                                                   \n",
            "3                                                  3                                                                   \n",
            "4                                                  4                                                                   \n",
            "\n",
            "   I delegate tasks to experts to help me identify quality choices about products/services for further consideration  \\\n",
            "0                                                  3                                                                   \n",
            "1                                                  4                                                                   \n",
            "2                                                  4                                                                   \n",
            "3                                                  3                                                                   \n",
            "4                                                  3                                                                   \n",
            "\n",
            "   When I delegate decision making, to experts, I experience a loss of control  \n",
            "0                                                  4                            \n",
            "1                                                  5                            \n",
            "2                                                  4                            \n",
            "3                                                  1                            \n",
            "4                                                  3                            \n"
          ]
        }
      ]
    },
    {
      "cell_type": "code",
      "source": [
        "# prompt: PCA for  decisiondelegation_vars\n",
        "\n",
        "# Step 1: Standardize the data\n",
        "scaler = StandardScaler()\n",
        "decisiondelegation_data_scaled = scaler.fit_transform(decisiondelegation_vars)\n",
        "\n",
        "# Step 2: Fit PCA model\n",
        "pca = PCA(n_components=1)  # Choose 1 component for summarization\n",
        "pca_result = pca.fit_transform(decisiondelegation_data_scaled)\n",
        "\n",
        "# Step 3: Store the PCA component scores in the original DataFrame\n",
        "data['DecisionDelegation_Score'] = pca_result\n",
        "\n",
        "# Step 4: Print explained variance and PCA scores\n",
        "print(\"Explained Variance Ratio:\", pca.explained_variance_ratio_)\n",
        "print(\"Principal Component Scores (first few rows):\\n\", pca_result[:5])"
      ],
      "metadata": {
        "colab": {
          "base_uri": "https://localhost:8080/"
        },
        "id": "jZjBT22_erWo",
        "outputId": "4ed10f4d-cd82-4df0-bc42-4b65000dee51"
      },
      "execution_count": 37,
      "outputs": [
        {
          "output_type": "stream",
          "name": "stdout",
          "text": [
            "Explained Variance Ratio: [0.41118467]\n",
            "Principal Component Scores (first few rows):\n",
            " [[ 0.68289054]\n",
            " [ 2.38240128]\n",
            " [-1.14606903]\n",
            " [-2.17343222]\n",
            " [ 0.33411921]]\n"
          ]
        }
      ]
    },
    {
      "cell_type": "code",
      "source": [
        "engagement_vars = data.iloc[:, 80:85]  # Note: end index is exclusive, so use 73\n",
        "print(engagement_vars.head())"
      ],
      "metadata": {
        "colab": {
          "base_uri": "https://localhost:8080/"
        },
        "id": "E38DOyxJe0Ki",
        "outputId": "46102eea-9216-4dd6-9c38-194aa1048845"
      },
      "execution_count": 39,
      "outputs": [
        {
          "output_type": "stream",
          "name": "stdout",
          "text": [
            "   I am interested in anything to do with my pension providers  \\\n",
            "0                                                  3             \n",
            "1                                                  4             \n",
            "2                                                  4             \n",
            "3                                                  2             \n",
            "4                                                  5             \n",
            "\n",
            "   I find my pension provider to be interesting  \\\n",
            "0                                             5   \n",
            "1                                             5   \n",
            "2                                             4   \n",
            "3                                             5   \n",
            "4                                             5   \n",
            "\n",
            "   I take close interest when interacting with my pension providers  \\\n",
            "0                                                  2                  \n",
            "1                                                  5                  \n",
            "2                                                  1                  \n",
            "3                                                  4                  \n",
            "4                                                  4                  \n",
            "\n",
            "   If I see information related to my pension providers it grabs my attention  \\\n",
            "0                                                  3                            \n",
            "1                                                  4                            \n",
            "2                                                  2                            \n",
            "3                                                  4                            \n",
            "4                                                  4                            \n",
            "\n",
            "   I spend a lot of time thinking about my pension providers  \n",
            "0                                                  4          \n",
            "1                                                  4          \n",
            "2                                                  3          \n",
            "3                                                  4          \n",
            "4                                                  4          \n"
          ]
        }
      ]
    },
    {
      "cell_type": "code",
      "source": [
        "\n",
        "# Step 1: Standardize the data\n",
        "scaler = StandardScaler()\n",
        "engagement_data_scaled = scaler.fit_transform(engagement_vars)\n",
        "\n",
        "# Step 2: Fit PCA model\n",
        "pca = PCA(n_components=1)  # Choose 1 component for summarization\n",
        "pca_result = pca.fit_transform(engagement_data_scaled)\n",
        "\n",
        "# Step 3: Store the PCA component scores in the original DataFrame\n",
        "data['Engagement_Score'] = pca_result\n",
        "\n",
        "# Step 4: Print explained variance and PCA scores\n",
        "print(\"Explained Variance Ratio:\", pca.explained_variance_ratio_)\n",
        "print(\"Principal Component Scores (first few rows):\\n\", pca_result[:5])"
      ],
      "metadata": {
        "colab": {
          "base_uri": "https://localhost:8080/"
        },
        "id": "ZDQBGvnJfhtz",
        "outputId": "c82f32eb-1d0a-4b91-926b-5f6239fd9015"
      },
      "execution_count": 40,
      "outputs": [
        {
          "output_type": "stream",
          "name": "stdout",
          "text": [
            "Explained Variance Ratio: [0.45135572]\n",
            "Principal Component Scores (first few rows):\n",
            " [[-0.1711136 ]\n",
            " [ 1.90743497]\n",
            " [-1.43232699]\n",
            " [ 0.6165194 ]\n",
            " [ 1.95316709]]\n"
          ]
        }
      ]
    },
    {
      "cell_type": "code",
      "source": [],
      "metadata": {
        "id": "JFrJ-5hzgHxq"
      },
      "execution_count": null,
      "outputs": []
    },
    {
      "cell_type": "code",
      "source": [
        "individualbehavior_vars = data.iloc[:, 86:95]  # Note: end index is exclusive, so use 73\n",
        "print(individualbehavior_vars.head())"
      ],
      "metadata": {
        "colab": {
          "base_uri": "https://localhost:8080/"
        },
        "id": "i6i0z-BifnNe",
        "outputId": "a0d19832-3adb-4290-ace8-49e64f546b79"
      },
      "execution_count": 41,
      "outputs": [
        {
          "output_type": "stream",
          "name": "stdout",
          "text": [
            "   Most of my family expect me to have a pension  \\\n",
            "0                                              4   \n",
            "1                                              4   \n",
            "2                                              3   \n",
            "3                                              5   \n",
            "4                                              4   \n",
            "\n",
            "   Most of my family believe that enrolling into a pension scheme is a good idea  \\\n",
            "0                                                  3                               \n",
            "1                                                  5                               \n",
            "2                                                  2                               \n",
            "3                                                  2                               \n",
            "4                                                  4                               \n",
            "\n",
            "   If I did not have a pension, people whose opinion I value, would like me to enrol into a pension  \\\n",
            "0                                                  4                                                  \n",
            "1                                                  4                                                  \n",
            "2                                                  3                                                  \n",
            "3                                                  2                                                  \n",
            "4                                                  4                                                  \n",
            "\n",
            "   The fact that my friends have a pension puts pressure on me to have a pension  \\\n",
            "0                                                  5                               \n",
            "1                                                  4                               \n",
            "2                                                  4                               \n",
            "3                                                  4                               \n",
            "4                                                  5                               \n",
            "\n",
            "   The fact that my family have a pension puts pressure on me to have a pension  \\\n",
            "0                                                  4                              \n",
            "1                                                  4                              \n",
            "2                                                  2                              \n",
            "3                                                  4                              \n",
            "4                                                  3                              \n",
            "\n",
            "   The fact that my colleagues have a pension puts pressure on me to have a pension  \\\n",
            "0                                                  4                                  \n",
            "1                                                  4                                  \n",
            "2                                                  3                                  \n",
            "3                                                  5                                  \n",
            "4                                                  3                                  \n",
            "\n",
            "   I believe my pension provider will be able to deliver my required pension services  \\\n",
            "0                                                  4                                    \n",
            "1                                                  4                                    \n",
            "2                                                  2                                    \n",
            "3                                                  5                                    \n",
            "4                                                  3                                    \n",
            "\n",
            "   My pension providers have the resources, knowledge, and ability to deliver a relevant pension service  \\\n",
            "0                                                  5                                                       \n",
            "1                                                  5                                                       \n",
            "2                                                  2                                                       \n",
            "3                                                  5                                                       \n",
            "4                                                  4                                                       \n",
            "\n",
            "   I believe that my provider will continue providing pension services regularly in future  \n",
            "0                                                  2                                        \n",
            "1                                                  4                                        \n",
            "2                                                  2                                        \n",
            "3                                                  4                                        \n",
            "4                                                  5                                        \n"
          ]
        }
      ]
    },
    {
      "cell_type": "code",
      "source": [
        "# Step 1: Standardize the data\n",
        "scaler = StandardScaler()\n",
        "individualbehavior_data_scaled = scaler.fit_transform(individualbehavior_vars)\n",
        "\n",
        "# Step 2: Fit PCA model\n",
        "pca = PCA(n_components=1)  # Choose 1 component for summarization\n",
        "pca_result = pca.fit_transform(individualbehavior_data_scaled)\n",
        "\n",
        "# Step 3: Store the PCA component scores in the original DataFrame\n",
        "data['IndividualBehavior_Score'] = pca_result\n",
        "\n",
        "# Step 4: Print explained variance and PCA scores\n",
        "print(\"Explained Variance Ratio:\", pca.explained_variance_ratio_)\n",
        "print(\"Principal Component Scores (first few rows):\\n\", pca_result[:5])"
      ],
      "metadata": {
        "colab": {
          "base_uri": "https://localhost:8080/"
        },
        "id": "Z4uW1Bd1hMGj",
        "outputId": "850ae9f9-44cc-4261-c5d9-582701884243"
      },
      "execution_count": 46,
      "outputs": [
        {
          "output_type": "stream",
          "name": "stdout",
          "text": [
            "Explained Variance Ratio: [0.32959738]\n",
            "Principal Component Scores (first few rows):\n",
            " [[ 0.9877459 ]\n",
            " [ 1.981119  ]\n",
            " [-2.91885151]\n",
            " [ 1.42744794]\n",
            " [ 0.98881146]]\n"
          ]
        }
      ]
    },
    {
      "cell_type": "code",
      "source": [
        "# prompt: print the last columns of data\n",
        "\n",
        "print(data.iloc[:, -7:].head()) #prints last 5 columns"
      ],
      "metadata": {
        "colab": {
          "base_uri": "https://localhost:8080/"
        },
        "id": "2Sw7giFNgPA8",
        "outputId": "2a871860-1658-4248-d91b-562bfd8739c8"
      },
      "execution_count": 48,
      "outputs": [
        {
          "output_type": "stream",
          "name": "stdout",
          "text": [
            "   Trust_Score  Communication_Score  Communication_Score_2  \\\n",
            "0    -0.643613            -0.783903              -0.519641   \n",
            "1     2.744911             1.403477               2.488923   \n",
            "2    -3.662306            -4.785168              -2.537509   \n",
            "3     0.356176             1.857104              -2.013094   \n",
            "4     3.143386             1.456076               2.589829   \n",
            "\n",
            "   DecisionDelegation_Score  Engagement_Score  financialability_score  \\\n",
            "0                  0.682891         -0.171114               -0.519641   \n",
            "1                  2.382401          1.907435                2.488923   \n",
            "2                 -1.146069         -1.432327               -2.537509   \n",
            "3                 -2.173432          0.616519               -2.013094   \n",
            "4                  0.334119          1.953167                2.589829   \n",
            "\n",
            "   IndividualBehavior_Score  \n",
            "0                  0.987746  \n",
            "1                  1.981119  \n",
            "2                 -2.918852  \n",
            "3                  1.427448  \n",
            "4                  0.988811  \n"
          ]
        }
      ]
    },
    {
      "cell_type": "code",
      "source": [
        "import statsmodels.api as sm\n",
        "\n",
        "# Define the independent variables (predictors) and the dependent variable\n",
        "X = data[['Trust_Score', 'Communication_Score', 'DecisionDelegation_Score',\n",
        "          'Engagement_Score', 'financialability_score']]\n",
        "y = data['IndividualBehavior_Score']\n",
        "\n",
        "# Add a constant to the model (intercept)\n",
        "X = sm.add_constant(X)\n",
        "\n",
        "# Fit the regression model\n",
        "model = sm.OLS(y, X).fit()\n",
        "\n",
        "# Print the summary of the regression model\n",
        "print(model.summary())\n",
        "\n"
      ],
      "metadata": {
        "colab": {
          "base_uri": "https://localhost:8080/"
        },
        "id": "XdKk_NAphc6m",
        "outputId": "25c6a634-53a9-4d30-c05b-847c6233b881"
      },
      "execution_count": 49,
      "outputs": [
        {
          "output_type": "stream",
          "name": "stdout",
          "text": [
            "                               OLS Regression Results                               \n",
            "====================================================================================\n",
            "Dep. Variable:     IndividualBehavior_Score   R-squared:                       0.664\n",
            "Model:                                  OLS   Adj. R-squared:                  0.660\n",
            "Method:                       Least Squares   F-statistic:                     159.6\n",
            "Date:                      Thu, 07 Nov 2024   Prob (F-statistic):           3.36e-93\n",
            "Time:                              12:09:57   Log-Likelihood:                -579.43\n",
            "No. Observations:                       409   AIC:                             1171.\n",
            "Df Residuals:                           403   BIC:                             1195.\n",
            "Df Model:                                 5                                         \n",
            "Covariance Type:                  nonrobust                                         \n",
            "============================================================================================\n",
            "                               coef    std err          t      P>|t|      [0.025      0.975]\n",
            "--------------------------------------------------------------------------------------------\n",
            "const                     1.971e-17      0.050   3.97e-16      1.000      -0.098       0.098\n",
            "Trust_Score                  0.3466      0.041      8.501      0.000       0.266       0.427\n",
            "Communication_Score          0.0446      0.054      0.820      0.412      -0.062       0.151\n",
            "DecisionDelegation_Score     0.1960      0.052      3.806      0.000       0.095       0.297\n",
            "Engagement_Score             0.1083      0.051      2.125      0.034       0.008       0.208\n",
            "financialability_score       0.0699      0.045      1.546      0.123      -0.019       0.159\n",
            "==============================================================================\n",
            "Omnibus:                        5.039   Durbin-Watson:                   2.033\n",
            "Prob(Omnibus):                  0.080   Jarque-Bera (JB):                5.218\n",
            "Skew:                           0.183   Prob(JB):                       0.0736\n",
            "Kurtosis:                       3.415   Cond. No.                         4.47\n",
            "==============================================================================\n",
            "\n",
            "Notes:\n",
            "[1] Standard Errors assume that the covariance matrix of the errors is correctly specified.\n"
          ]
        }
      ]
    },
    {
      "cell_type": "code",
      "source": [
        "pip install semopy"
      ],
      "metadata": {
        "colab": {
          "base_uri": "https://localhost:8080/"
        },
        "id": "rQpYsFP7iPAG",
        "outputId": "2591652b-70de-49ad-ee7a-a03648f84c46"
      },
      "execution_count": 51,
      "outputs": [
        {
          "output_type": "stream",
          "name": "stdout",
          "text": [
            "Collecting semopy\n",
            "  Downloading semopy-2.3.11.tar.gz (1.6 MB)\n",
            "\u001b[?25l     \u001b[90m━━━━━━━━━━━━━━━━━━━━━━━━━━━━━━━━━━━━━━━━\u001b[0m \u001b[32m0.0/1.6 MB\u001b[0m \u001b[31m?\u001b[0m eta \u001b[36m-:--:--\u001b[0m\r\u001b[2K     \u001b[91m━━━━━━━━━━━━━━━━━━━━━━━━━━━━━━━━━━━━━━━\u001b[0m\u001b[91m╸\u001b[0m \u001b[32m1.6/1.6 MB\u001b[0m \u001b[31m81.0 MB/s\u001b[0m eta \u001b[36m0:00:01\u001b[0m\r\u001b[2K     \u001b[90m━━━━━━━━━━━━━━━━━━━━━━━━━━━━━━━━━━━━━━━━\u001b[0m \u001b[32m1.6/1.6 MB\u001b[0m \u001b[31m44.6 MB/s\u001b[0m eta \u001b[36m0:00:00\u001b[0m\n",
            "\u001b[?25h  Preparing metadata (setup.py) ... \u001b[?25l\u001b[?25hdone\n",
            "Requirement already satisfied: scipy in /usr/local/lib/python3.10/dist-packages (from semopy) (1.13.1)\n",
            "Requirement already satisfied: numpy in /usr/local/lib/python3.10/dist-packages (from semopy) (1.26.4)\n",
            "Requirement already satisfied: pandas in /usr/local/lib/python3.10/dist-packages (from semopy) (2.2.2)\n",
            "Requirement already satisfied: sympy in /usr/local/lib/python3.10/dist-packages (from semopy) (1.13.1)\n",
            "Requirement already satisfied: scikit-learn in /usr/local/lib/python3.10/dist-packages (from semopy) (1.5.2)\n",
            "Requirement already satisfied: statsmodels in /usr/local/lib/python3.10/dist-packages (from semopy) (0.14.4)\n",
            "Collecting numdifftools (from semopy)\n",
            "  Downloading numdifftools-0.9.41-py2.py3-none-any.whl.metadata (39 kB)\n",
            "Requirement already satisfied: python-dateutil>=2.8.2 in /usr/local/lib/python3.10/dist-packages (from pandas->semopy) (2.8.2)\n",
            "Requirement already satisfied: pytz>=2020.1 in /usr/local/lib/python3.10/dist-packages (from pandas->semopy) (2024.2)\n",
            "Requirement already satisfied: tzdata>=2022.7 in /usr/local/lib/python3.10/dist-packages (from pandas->semopy) (2024.2)\n",
            "Requirement already satisfied: joblib>=1.2.0 in /usr/local/lib/python3.10/dist-packages (from scikit-learn->semopy) (1.4.2)\n",
            "Requirement already satisfied: threadpoolctl>=3.1.0 in /usr/local/lib/python3.10/dist-packages (from scikit-learn->semopy) (3.5.0)\n",
            "Requirement already satisfied: patsy>=0.5.6 in /usr/local/lib/python3.10/dist-packages (from statsmodels->semopy) (0.5.6)\n",
            "Requirement already satisfied: packaging>=21.3 in /usr/local/lib/python3.10/dist-packages (from statsmodels->semopy) (24.1)\n",
            "Requirement already satisfied: mpmath<1.4,>=1.1.0 in /usr/local/lib/python3.10/dist-packages (from sympy->semopy) (1.3.0)\n",
            "Requirement already satisfied: six in /usr/local/lib/python3.10/dist-packages (from patsy>=0.5.6->statsmodels->semopy) (1.16.0)\n",
            "Downloading numdifftools-0.9.41-py2.py3-none-any.whl (100 kB)\n",
            "\u001b[2K   \u001b[90m━━━━━━━━━━━━━━━━━━━━━━━━━━━━━━━━━━━━━━━━\u001b[0m \u001b[32m100.2/100.2 kB\u001b[0m \u001b[31m8.4 MB/s\u001b[0m eta \u001b[36m0:00:00\u001b[0m\n",
            "\u001b[?25hBuilding wheels for collected packages: semopy\n",
            "  Building wheel for semopy (setup.py) ... \u001b[?25l\u001b[?25hdone\n",
            "  Created wheel for semopy: filename=semopy-2.3.11-py3-none-any.whl size=1659681 sha256=e72b6c76935265a5ed7fb38a436b0d6d4a3f266867db3cdc36ed4bb8d7e17b51\n",
            "  Stored in directory: /root/.cache/pip/wheels/53/ec/0d/0b294c02d8c4e9e80afea58839f2c1b4706770594bc99ec045\n",
            "Successfully built semopy\n",
            "Installing collected packages: numdifftools, semopy\n",
            "Successfully installed numdifftools-0.9.41 semopy-2.3.11\n"
          ]
        }
      ]
    },
    {
      "cell_type": "code",
      "source": [
        "from semopy import Model\n",
        "\n",
        "# Define SEM model (hypothetical relationships)\n",
        "model_desc = \"\"\"\n",
        "    IndividualBehavior_Score ~ Trust_Score + Communication_Score +\n",
        "                               DecisionDelegation_Score + Engagement_Score +\n",
        "                               financialability_score\n",
        "    Engagement_Score ~ Trust_Score + Communication_Score\n",
        "\"\"\"\n",
        "\n",
        "# Create and fit the model\n",
        "model = Model(model_desc)\n",
        "model.fit(data)\n",
        "\n",
        "# Print path coefficients and model fit statistics\n",
        "print(model.inspect())\n",
        "print(model.fit())\n"
      ],
      "metadata": {
        "colab": {
          "base_uri": "https://localhost:8080/",
          "height": 384
        },
        "id": "NoOsb8WoiCL2",
        "outputId": "0382383a-fedf-4aab-9bf0-e82198b264ba"
      },
      "execution_count": 50,
      "outputs": [
        {
          "output_type": "error",
          "ename": "ModuleNotFoundError",
          "evalue": "No module named 'semopy'",
          "traceback": [
            "\u001b[0;31m---------------------------------------------------------------------------\u001b[0m",
            "\u001b[0;31mModuleNotFoundError\u001b[0m                       Traceback (most recent call last)",
            "\u001b[0;32m<ipython-input-50-bcb73b53f80f>\u001b[0m in \u001b[0;36m<cell line: 1>\u001b[0;34m()\u001b[0m\n\u001b[0;32m----> 1\u001b[0;31m \u001b[0;32mfrom\u001b[0m \u001b[0msemopy\u001b[0m \u001b[0;32mimport\u001b[0m \u001b[0mModel\u001b[0m\u001b[0;34m\u001b[0m\u001b[0;34m\u001b[0m\u001b[0m\n\u001b[0m\u001b[1;32m      2\u001b[0m \u001b[0;34m\u001b[0m\u001b[0m\n\u001b[1;32m      3\u001b[0m \u001b[0;31m# Define SEM model (hypothetical relationships)\u001b[0m\u001b[0;34m\u001b[0m\u001b[0;34m\u001b[0m\u001b[0m\n\u001b[1;32m      4\u001b[0m model_desc = \"\"\"\n\u001b[1;32m      5\u001b[0m     \u001b[0mIndividualBehavior_Score\u001b[0m \u001b[0;34m~\u001b[0m \u001b[0mTrust_Score\u001b[0m \u001b[0;34m+\u001b[0m \u001b[0mCommunication_Score\u001b[0m \u001b[0;34m+\u001b[0m\u001b[0;34m\u001b[0m\u001b[0;34m\u001b[0m\u001b[0m\n",
            "\u001b[0;31mModuleNotFoundError\u001b[0m: No module named 'semopy'",
            "",
            "\u001b[0;31m---------------------------------------------------------------------------\u001b[0;32m\nNOTE: If your import is failing due to a missing package, you can\nmanually install dependencies using either !pip or !apt.\n\nTo view examples of installing some common dependencies, click the\n\"Open Examples\" button below.\n\u001b[0;31m---------------------------------------------------------------------------\u001b[0m\n"
          ],
          "errorDetails": {
            "actions": [
              {
                "action": "open_url",
                "actionText": "Open Examples",
                "url": "/notebooks/snippets/importing_libraries.ipynb"
              }
            ]
          }
        }
      ]
    }
  ]
}